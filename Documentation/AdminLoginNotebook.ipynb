{
 "cells": [
  {
   "cell_type": "markdown",
   "id": "73387ffb",
   "metadata": {},
   "source": [
    "# A Jupyter Notebook to Add an Admin Login Flow\n",
    "This notebook outlines the steps to add an admin login alongside the existing student flow in a Node.js and React project."
   ]
  },
  {
   "cell_type": "markdown",
   "id": "3acd0007",
   "metadata": {},
   "source": [
    "## Update User Schema\n",
    "Modify the User schema to include a 'role' field with 'student' as the default value. Ensure no breakage for existing users."
   ]
  },
  {
   "cell_type": "code",
   "execution_count": null,
   "id": "1dd51429",
   "metadata": {
    "vscode": {
     "languageId": "javascript"
    }
   },
   "outputs": [],
   "source": [
    "const mongoose = require('mongoose');\n",
    "const Schema = mongoose.Schema;\n",
    "\n",
    "const userSchema = new Schema({\n",
    "    name: {\n",
    "        type: String,\n",
    "        required: true\n",
    "    },\n",
    "    studentID: {\n",
    "        type: String,\n",
    "        required: true\n",
    "    },\n",
    "    email: {\n",
    "        type: String,\n",
    "        required: true\n",
    "    },\n",
    "    password: {\n",
    "        type: String,\n",
    "        required: true\n",
    "    },\n",
    "    phoneNumber: {\n",
    "        type: Number,\n",
    "        required: true\n",
    "    },\n",
    "    role: {\n",
    "        type: String,\n",
    "        enum: ['student', 'admin'],\n",
    "        default: 'student'\n",
    "    }\n",
    "});\n",
    "\n",
    "module.exports = mongoose.model(\"UserModel\", userSchema);"
   ]
  },
  {
   "cell_type": "markdown",
   "id": "d7078895",
   "metadata": {},
   "source": [
    "## Insert Admin User in MongoDB\n",
    "Demonstrate how to insert an admin user into the database using MongoDB shell or a Node.js seed script."
   ]
  },
  {
   "cell_type": "code",
   "execution_count": null,
   "id": "51dcabde",
   "metadata": {
    "vscode": {
     "languageId": "javascript"
    }
   },
   "outputs": [],
   "source": [
    "// Node.js seed script to insert an admin user\n",
    "const mongoose = require('mongoose');\n",
    "const UserModel = require('./Model/UserModel');\n",
    "\n",
    "mongoose.connect('mongodb://localhost:27017/lost-and-found', { useNewUrlParser: true, useUnifiedTopology: true })\n",
    "    .then(() => {\n",
    "        console.log('Connected to MongoDB');\n",
    "        return UserModel.create({\n",
    "            name: 'Admin User',\n",
    "            studentID: 'N/A',\n",
    "            email: 'admin@example.com',\n",
    "            password: 'securepassword', // Ensure to hash passwords in production\n",
    "            phoneNumber: 1234567890,\n",
    "            role: 'admin'\n",
    "        });\n",
    "    })\n",
    "    .then(() => {\n",
    "        console.log('Admin user created successfully');\n",
    "        mongoose.disconnect();\n",
    "    })\n",
    "    .catch(err => {\n",
    "        console.error('Error creating admin user:', err);\n",
    "        mongoose.disconnect();\n",
    "    });"
   ]
  },
  {
   "cell_type": "markdown",
   "id": "5828fa31",
   "metadata": {},
   "source": [
    "## Create Admin Login Endpoint\n",
    "Add a new '/admin/login' endpoint in the backend that authenticates users with the 'admin' role."
   ]
  },
  {
   "cell_type": "code",
   "execution_count": null,
   "id": "9e5348d7",
   "metadata": {
    "vscode": {
     "languageId": "javascript"
    }
   },
   "outputs": [],
   "source": [
    "// Backend: Admin login endpoint\n",
    "const express = require('express');\n",
    "const router = express.Router();\n",
    "const UserModel = require('../Model/UserModel');\n",
    "const bcrypt = require('bcryptjs');\n",
    "const jwt = require('jsonwebtoken');\n",
    "\n",
    "router.post('/admin/login', async (req, res) => {\n",
    "    const { email, password } = req.body;\n",
    "\n",
    "    try {\n",
    "        const user = await UserModel.findOne({ email, role: 'admin' });\n",
    "        if (!user) {\n",
    "            return res.status(404).json({ message: 'Admin not found' });\n",
    "        }\n",
    "\n",
    "        const isPasswordValid = await bcrypt.compare(password, user.password);\n",
    "        if (!isPasswordValid) {\n",
    "            return res.status(401).json({ message: 'Invalid credentials' });\n",
    "        }\n",
    "\n",
    "        const token = jwt.sign({ id: user._id, role: user.role }, 'your_jwt_secret', { expiresIn: '1h' });\n",
    "        res.status(200).json({ token });\n",
    "    } catch (err) {\n",
    "        res.status(500).json({ message: 'Server error', error: err });\n",
    "    }\n",
    "});\n",
    "\n",
    "module.exports = router;"
   ]
  },
  {
   "cell_type": "markdown",
   "id": "53a0625a",
   "metadata": {},
   "source": [
    "## Frontend: Admin Login Component\n",
    "Create a React component for admin login and integrate it into the React Router."
   ]
  },
  {
   "cell_type": "code",
   "execution_count": null,
   "id": "f61c38bc",
   "metadata": {
    "vscode": {
     "languageId": "javascript"
    }
   },
   "outputs": [],
   "source": [
    "// React: AdminLogin.js\n",
    "import React, { useState } from 'react';\n",
    "import axios from 'axios';\n",
    "\n",
    "const AdminLogin = () => {\n",
    "    const [email, setEmail] = useState('');\n",
    "    const [password, setPassword] = useState('');\n",
    "    const [error, setError] = useState('');\n",
    "\n",
    "    const handleLogin = async (e) => {\n",
    "        e.preventDefault();\n",
    "        try {\n",
    "            const response = await axios.post('/admin/login', { email, password });\n",
    "            localStorage.setItem('adminToken', response.data.token);\n",
    "            window.location.href = '/admin/dashboard';\n",
    "        } catch (err) {\n",
    "            setError('Invalid credentials');\n",
    "        }\n",
    "    };\n",
    "\n",
    "    return (\n",
    "        <div>\n",
    "            <h2>Admin Login</h2>\n",
    "            <form onSubmit={handleLogin}>\n",
    "                <input\n",
    "                    type=\"email\"\n",
    "                    placeholder=\"Email\"\n",
    "                    value={email}\n",
    "                    onChange={(e) => setEmail(e.target.value)}\n",
    "                />\n",
    "                <input\n",
    "                    type=\"password\"\n",
    "                    placeholder=\"Password\"\n",
    "                    value={password}\n",
    "                    onChange={(e) => setPassword(e.target.value)}\n",
    "                />\n",
    "                <button type=\"submit\">Login</button>\n",
    "            </form>\n",
    "            {error && <p>{error}</p>}\n",
    "        </div>\n",
    "    );\n",
    "};\n",
    "\n",
    "export default AdminLogin;"
   ]
  },
  {
   "cell_type": "markdown",
   "id": "c0623e80",
   "metadata": {},
   "source": [
    "## Protect Admin Routes\n",
    "Implement middleware to protect admin routes and demonstrate how to use it in the backend."
   ]
  },
  {
   "cell_type": "code",
   "execution_count": null,
   "id": "63184573",
   "metadata": {
    "vscode": {
     "languageId": "javascript"
    }
   },
   "outputs": [],
   "source": [
    "// Middleware to protect admin routes\n",
    "const jwt = require('jsonwebtoken');\n",
    "\n",
    "const adminAuth = (req, res, next) => {\n",
    "    const token = req.header('Authorization')?.replace('Bearer ', '');\n",
    "    if (!token) {\n",
    "        return res.status(401).json({ message: 'Access denied' });\n",
    "    }\n",
    "\n",
    "    try {\n",
    "        const decoded = jwt.verify(token, 'your_jwt_secret');\n",
    "        if (decoded.role !== 'admin') {\n",
    "            return res.status(403).json({ message: 'Forbidden' });\n",
    "        }\n",
    "        req.user = decoded;\n",
    "        next();\n",
    "    } catch (err) {\n",
    "        res.status(400).json({ message: 'Invalid token' });\n",
    "    }\n",
    "};\n",
    "\n",
    "module.exports = adminAuth;"
   ]
  },
  {
   "cell_type": "code",
   "execution_count": null,
   "id": "f509195c",
   "metadata": {
    "vscode": {
     "languageId": "javascript"
    }
   },
   "outputs": [],
   "source": [
    "// Example usage of adminAuth middleware\n",
    "const express = require('express');\n",
    "const router = express.Router();\n",
    "const adminAuth = require('../Middleware/adminAuth');\n",
    "\n",
    "router.get('/admin/dashboard', adminAuth, (req, res) => {\n",
    "    res.status(200).json({ message: 'Welcome to the admin dashboard' });\n",
    "});\n",
    "\n",
    "module.exports = router;"
   ]
  }
 ],
 "metadata": {
  "language_info": {
   "name": "python"
  }
 },
 "nbformat": 4,
 "nbformat_minor": 5
}
